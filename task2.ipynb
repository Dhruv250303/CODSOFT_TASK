{
 "cells": [
  {
   "cell_type": "code",
   "execution_count": 1,
   "id": "43877a00-7751-4193-a998-6b897abf8ca7",
   "metadata": {},
   "outputs": [],
   "source": [
    "def add(x, y):\n",
    "    return x + y\n",
    "\n",
    "def subtract(x, y):\n",
    "    return x - y\n",
    "\n",
    "def multiply(x, y):\n",
    "    return x * y\n",
    "\n",
    "def divide(x, y):\n",
    "    if y != 0:\n",
    "        return x / y\n",
    "    else:\n",
    "        return \"Error: Cannot divide by zero.\"\n",
    "\n"
   ]
  },
  {
   "cell_type": "code",
   "execution_count": 2,
   "id": "aaae8c26-d580-4b80-843c-07af5c9eceb0",
   "metadata": {},
   "outputs": [
    {
     "name": "stdout",
     "output_type": "stream",
     "text": [
      "Enter the first number:  22\n",
      "Enter the second number:  33\n",
      "Choose an operation (+, -, *, /):  *\n"
     ]
    },
    {
     "name": "stdout",
     "output_type": "stream",
     "text": [
      "Result: 726.0\n"
     ]
    }
   ],
   "source": [
    "# Get user input\n",
    "num1 = float(input(\"Enter the first number: \"))\n",
    "num2 = float(input(\"Enter the second number: \"))\n",
    "operation = input(\"Choose an operation (+, -, *, /): \")\n",
    "\n",
    "# Perform calculation based on user's choice\n",
    "if operation == \"+\":\n",
    "    result = add(num1, num2)\n",
    "elif operation == \"-\":\n",
    "    result = subtract(num1, num2)\n",
    "elif operation == \"*\":\n",
    "    result = multiply(num1, num2)\n",
    "elif operation == \"/\":\n",
    "    result = divide(num1, num2)\n",
    "else:\n",
    "    result = \"Invalid operation. Please choose +, -, *, or /.\"\n",
    "\n",
    "print(f\"Result: {result}\")\n"
   ]
  },
  {
   "cell_type": "code",
   "execution_count": null,
   "id": "0a44a6cd-1a65-4621-bf0b-0bbfc6a7c9f9",
   "metadata": {},
   "outputs": [],
   "source": []
  }
 ],
 "metadata": {
  "kernelspec": {
   "display_name": "Python 3 (ipykernel)",
   "language": "python",
   "name": "python3"
  },
  "language_info": {
   "codemirror_mode": {
    "name": "ipython",
    "version": 3
   },
   "file_extension": ".py",
   "mimetype": "text/x-python",
   "name": "python",
   "nbconvert_exporter": "python",
   "pygments_lexer": "ipython3",
   "version": "3.12.3"
  }
 },
 "nbformat": 4,
 "nbformat_minor": 5
}
